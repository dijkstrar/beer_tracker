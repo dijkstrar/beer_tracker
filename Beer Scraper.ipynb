{
 "cells": [
  {
   "cell_type": "markdown",
   "metadata": {},
   "source": [
    "# Web scraper bier\n",
    "### Supermarkten\n",
    "- Jumbo\n",
    "- Dirk\n",
    "- Albert Heijn\n",
    "\n",
    "### Bier\n",
    "- Heineken\n",
    "- Grolsch (+ beugel)\n",
    "- Hertog jan\n",
    "- Brand\n",
    "- Warsteiner"
   ]
  },
  {
   "cell_type": "code",
   "execution_count": 1,
   "metadata": {},
   "outputs": [],
   "source": [
    "from selenium.webdriver import Firefox, FirefoxOptions\n",
    "from selenium.webdriver.common.by import By\n",
    "from selenium.common.exceptions import TimeoutException\n",
    "from selenium.webdriver.support.ui import WebDriverWait\n",
    "from selenium.common.exceptions import NoSuchElementException\n",
    "from selenium.webdriver.support import expected_conditions as EC\n",
    "from bs4 import BeautifulSoup\n",
    "from contextlib import contextmanager\n",
    "import re\n",
    "\n",
    "\n",
    "@contextmanager\n",
    "def get_firefox() -> Firefox:\n",
    "    # https://docs.python.org/3.7/library/contextlib.html#contextlib.contextmanager\n",
    "    opts = FirefoxOptions()\n",
    "    opts.headless = True\n",
    "    driver = Firefox(options=opts,executable_path=r'C:\\uni\\Uni\\BA\\Jaar 2\\Semester 2\\Big data\\WPy64-3741\\notebooks\\fast.com\\geckodriver.exe')\n",
    "    yield driver\n",
    "    driver.close()\n",
    "    driver.quit()"
   ]
  },
  {
   "cell_type": "markdown",
   "metadata": {},
   "source": [
    "# Albert Heijn\n",
    "Needs re-structuring"
   ]
  },
  {
   "cell_type": "code",
   "execution_count": 2,
   "metadata": {},
   "outputs": [],
   "source": [
    "def albert_heijn() -> dict:\n",
    "    \n",
    "    beer_urls = {'Heineken':'https://www.ah.nl/producten/product/wi210145/heineken-premium-pilsener',\n",
    "           'Grolsch':'https://www.ah.nl/producten/product/wi232949/grolsch-premium-pilsner-krat',\n",
    "           'Grolsch Beugel':'https://www.ah.nl/producten/product/wi2724/grolsch-premium-pilsner-beugelfles',\n",
    "           'Hertog Jan':'https://www.ah.nl/producten/product/wi2708/hertog-jan-traditioneel-natuurzuiver-bier',\n",
    "           'Brand':'https://www.ah.nl/producten/product/wi227163/brand-pilsener',\n",
    "           'Warsteiner':'https://www.ah.nl/producten/product/wi126867/warsteiner-pilsener'}\n",
    "    \n",
    "    def extract_price(soup: BeautifulSoup):\n",
    "        full =float(soup.select_one(\"span[class*='price-amount_integer']\").text)\n",
    "        fract= float(soup.select_one(\"span[class*='price-amount_fractional']\").text)/100\n",
    "        return full+fract\n",
    "    \n",
    "    def visit_page(url):\n",
    "        with get_firefox() as driver:\n",
    "            driver.get(url)\n",
    "            results_selector = \"div[class*='product-card-hero-price_now']\"\n",
    "            results_el = driver.find_element_by_css_selector(results_selector)\n",
    "            results_html = results_el.get_attribute('outerHTML')\n",
    "        return results_html\n",
    "\n",
    "    result_dict = {}\n",
    "    for (beer,url) in beer_urls.items():\n",
    "        print(url)\n",
    "        results_html=visit_page(url)\n",
    "        soup = BeautifulSoup(results_html, 'html.parser')\n",
    "        info = extract_price(soup)\n",
    "        result_dict[beer] = info\n",
    "    return result_dict"
   ]
  },
  {
   "cell_type": "code",
   "execution_count": null,
   "metadata": {},
   "outputs": [
    {
     "name": "stdout",
     "output_type": "stream",
     "text": [
      "https://www.ah.nl/producten/product/wi210145/heineken-premium-pilsener\n",
      "https://www.ah.nl/producten/product/wi232949/grolsch-premium-pilsner-krat\n",
      "https://www.ah.nl/producten/product/wi2724/grolsch-premium-pilsner-beugelfles\n"
     ]
    }
   ],
   "source": [
    "albert_heijn()"
   ]
  },
  {
   "cell_type": "markdown",
   "metadata": {},
   "source": [
    "# Dirk"
   ]
  },
  {
   "cell_type": "code",
   "execution_count": 4,
   "metadata": {},
   "outputs": [],
   "source": [
    "def dirk():\n",
    "    beer_urls = {'Heineken':'https://www.dirk.nl/boodschappen/dranken-sap-koffie-thee/bier/heineken-pilsener/6',\n",
    "           'Grolsch':'https://www.dirk.nl/boodschappen/dranken-sap-koffie-thee/bier/grolsch-premium-pilsener-krat/8993',\n",
    "#            'Grolsch Beugel':'https://www.ah.nl/producten/product/wi2724/grolsch-premium-pilsner-beugelfles',\n",
    "           'Hertog Jan':'https://www.dirk.nl/boodschappen/dranken-sap-koffie-thee/bier/hertog-jan-pilsener/9486',\n",
    "           'Brand':'https://www.dirk.nl/boodschappen/dranken-sap-koffie-thee/bier/brand-pilsener/8359',\n",
    "#            'Warsteiner':'https://www.ah.nl/producten/product/wi126867/warsteiner-pilsener'\n",
    "                }\n",
    "    def extract_price(soup: BeautifulSoup, discount):\n",
    "        if discount:\n",
    "            #https://stackoverflow.com/questions/1547574/regex-for-prices\n",
    "            spantext = (soup.select(\"span\")[1])\n",
    "            match = re.findall(r'\\d{1,3}(?:[.,]\\d{3})*(?:[.,]\\d{2})',str(spantext))\n",
    "            price = float(match[0])\n",
    "        else:\n",
    "            full =float((soup.select_one(\"span[class*='product-card__price__euros']\").text)[:-1])\n",
    "            fract= float(soup.select_one(\"span[class*='product-card__price__cents']\").text)/100\n",
    "            price = full+fract\n",
    "        return price\n",
    "\n",
    "    def visit_page(url):\n",
    "        with get_firefox() as driver:\n",
    "            driver.get(url)\n",
    "            try: # discounted\n",
    "                results_selector = \"div[class*='product-card__discount']\"\n",
    "                results_el = driver.find_element_by_css_selector(results_selector)\n",
    "                discount = True\n",
    "            except NoSuchElementException: #not discounted\n",
    "                discount = False\n",
    "                results_selector = \"div[class*='product-card__price__new']\"\n",
    "                results_el = driver.find_element_by_css_selector(results_selector)\n",
    "            results_html = results_el.get_attribute('outerHTML')\n",
    "            return results_html,discount\n",
    "\n",
    "    \n",
    "    \n",
    "    result_dict = {}\n",
    "    for (beer,url) in beer_urls.items():\n",
    "        results_html,discount=visit_page(url)\n",
    "        soup = BeautifulSoup(results_html, 'html.parser')\n",
    "        info = extract_price(soup,discount)\n",
    "        result_dict[beer] = info\n",
    "    return result_dict"
   ]
  },
  {
   "cell_type": "code",
   "execution_count": 5,
   "metadata": {},
   "outputs": [
    {
     "data": {
      "text/plain": [
       "{'Heineken': 8.25, 'Grolsch': 16.79, 'Hertog Jan': 16.39, 'Brand': 16.49}"
      ]
     },
     "execution_count": 5,
     "metadata": {},
     "output_type": "execute_result"
    }
   ],
   "source": [
    "dirk()"
   ]
  },
  {
   "cell_type": "markdown",
   "metadata": {},
   "source": [
    "# Jumbo"
   ]
  },
  {
   "cell_type": "code",
   "execution_count": 8,
   "metadata": {},
   "outputs": [],
   "source": [
    "def jumbo():\n",
    "    beer_urls = {'Heineken':'https://www.jumbo.com/heineken-premium-pilsener-krat-24-x-30cl/87441KRT',\n",
    "           'Grolsch':'https://www.jumbo.com/grolsch-premium-pilsner-fles-24-x-30cl/147464KRT',\n",
    "           'Grolsch Beugel':'https://www.jumbo.com/grolsch-premium-pilsner-krat-16-x-45cl/508102KRT',\n",
    "           'Hertog Jan':'https://www.jumbo.com/hertog-jan-traditioneel-natuurzuiver-bier-krat-24-x-30cl/865788KRT',\n",
    "           'Brand':'https://www.jumbo.com/brand-bier-krat-24-x-30cl/140388KRT',\n",
    "           'Warsteiner':'https://www.jumbo.com/warsteiner-krat-24-x-300ml/449245KRT'\n",
    "                }\n",
    "    def extract_price(soup: BeautifulSoup):\n",
    "        full = float(soup.select_one('span[class*=\"jum-product-price__current-price--larger\"]').text)\n",
    "        fract = float(soup.select_one('span').text[:-1])/100\n",
    "        return full+fract\n",
    "\n",
    "    def visit_page(url):\n",
    "        with get_firefox() as driver:\n",
    "            driver.get(url)\n",
    "\n",
    "            results_selector = \"span[class*='jum-product-price__current-price']\"\n",
    "            results_el = driver.find_element_by_css_selector(results_selector)\n",
    "            results_html = results_el.get_attribute('outerHTML')\n",
    "            return results_html\n",
    "    \n",
    "    \n",
    "    result_dict = {}\n",
    "    for (beer,url) in beer_urls.items():\n",
    "        print(url)\n",
    "        results_html=visit_page(url)\n",
    "        soup = BeautifulSoup(results_html, 'html.parser')\n",
    "        info = extract_price(soup)\n",
    "        result_dict[beer] = info\n",
    "    return result_dict"
   ]
  },
  {
   "cell_type": "code",
   "execution_count": 9,
   "metadata": {},
   "outputs": [
    {
     "name": "stdout",
     "output_type": "stream",
     "text": [
      "https://www.jumbo.com/heineken-premium-pilsener-krat-24-x-30cl/87441KRT\n",
      "https://www.jumbo.com/grolsch-premium-pilsner-fles-24-x-30cl/147464KRT\n",
      "https://www.jumbo.com/grolsch-premium-pilsner-krat-16-x-45cl/508102KRT\n",
      "https://www.jumbo.com/hertog-jan-traditioneel-natuurzuiver-bier-krat-24-x-30cl/865788KRT\n",
      "https://www.jumbo.com/brand-bier-krat-24-x-30cl/140388KRT\n",
      "https://www.jumbo.com/warsteiner-krat-24-x-300ml/449245KRT\n"
     ]
    },
    {
     "data": {
      "text/plain": [
       "{'Heineken': 17.66,\n",
       " 'Grolsch': 17.69,\n",
       " 'Grolsch Beugel': 17.69,\n",
       " 'Hertog Jan': 17.69,\n",
       " 'Brand': 17.68,\n",
       " 'Warsteiner': 16.59}"
      ]
     },
     "execution_count": 9,
     "metadata": {},
     "output_type": "execute_result"
    }
   ],
   "source": [
    "jumbo()"
   ]
  },
  {
   "cell_type": "code",
   "execution_count": null,
   "metadata": {},
   "outputs": [],
   "source": []
  },
  {
   "cell_type": "code",
   "execution_count": null,
   "metadata": {},
   "outputs": [],
   "source": []
  },
  {
   "cell_type": "code",
   "execution_count": null,
   "metadata": {},
   "outputs": [],
   "source": []
  }
 ],
 "metadata": {
  "kernelspec": {
   "display_name": "Python 3",
   "language": "python",
   "name": "python3"
  },
  "language_info": {
   "codemirror_mode": {
    "name": "ipython",
    "version": 3
   },
   "file_extension": ".py",
   "mimetype": "text/x-python",
   "name": "python",
   "nbconvert_exporter": "python",
   "pygments_lexer": "ipython3",
   "version": "3.7.4"
  }
 },
 "nbformat": 4,
 "nbformat_minor": 2
}
